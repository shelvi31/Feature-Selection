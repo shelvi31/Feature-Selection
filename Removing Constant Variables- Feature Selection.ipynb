{
 "cells": [
  {
   "cell_type": "markdown",
   "id": "faced-andrew",
   "metadata": {},
   "source": [
    "## Dropping Constant/ Quasi Constant Features"
   ]
  },
  {
   "cell_type": "markdown",
   "id": "thermal-option",
   "metadata": {},
   "source": [
    "Constant Features that show single values in all the observations in the dataset. These features provide no information that allows ML models to predict the target."
   ]
  },
  {
   "cell_type": "markdown",
   "id": "assigned-portrait",
   "metadata": {},
   "source": [
    "We can drop constant features using Sklearn's Variance Threshold.\n",
    "Refer Document: https://scikit-learn.org/stable/modules/generated/sklearn.feature_selection.VarianceThreshold.html\n"
   ]
  },
  {
   "cell_type": "markdown",
   "id": "diagnostic-campaign",
   "metadata": {},
   "source": [
    "### Variance Threshold:"
   ]
  },
  {
   "cell_type": "markdown",
   "id": "welcome-springer",
   "metadata": {},
   "source": [
    "Variance Threshold is a feature selector that removes all the low variance features from the dataset that are of no great use in modelling.\n",
    "\n",
    "It looks only at the features (x), not the desired outputs (y), and can thus be used for unsupervised learning.\n",
    "\n",
    "Default Value of Threshold is 0"
   ]
  },
  {
   "cell_type": "markdown",
   "id": "billion-sending",
   "metadata": {},
   "source": [
    "- If Variance Threshold = 0 (Remove Constant Features )\n",
    "- If Variance Threshold > 0 (Remove Quasi-Constant Features )"
   ]
  },
  {
   "cell_type": "markdown",
   "id": "compressed-array",
   "metadata": {},
   "source": [
    "### Python Implementation:"
   ]
  },
  {
   "cell_type": "code",
   "execution_count": 2,
   "id": "excess-retail",
   "metadata": {},
   "outputs": [],
   "source": [
    "import pandas as pd\n",
    "import numpy as np"
   ]
  },
  {
   "cell_type": "code",
   "execution_count": 4,
   "id": "alive-methodology",
   "metadata": {},
   "outputs": [
    {
     "data": {
      "text/html": [
       "<div>\n",
       "<style scoped>\n",
       "    .dataframe tbody tr th:only-of-type {\n",
       "        vertical-align: middle;\n",
       "    }\n",
       "\n",
       "    .dataframe tbody tr th {\n",
       "        vertical-align: top;\n",
       "    }\n",
       "\n",
       "    .dataframe thead th {\n",
       "        text-align: right;\n",
       "    }\n",
       "</style>\n",
       "<table border=\"1\" class=\"dataframe\">\n",
       "  <thead>\n",
       "    <tr style=\"text-align: right;\">\n",
       "      <th></th>\n",
       "      <th>ID</th>\n",
       "      <th>Gender</th>\n",
       "      <th>Age</th>\n",
       "      <th>Region_Code</th>\n",
       "      <th>Occupation</th>\n",
       "      <th>Channel_Code</th>\n",
       "      <th>Vintage</th>\n",
       "      <th>Credit_Product</th>\n",
       "      <th>Avg_Account_Balance</th>\n",
       "      <th>Is_Active</th>\n",
       "      <th>Is_Lead</th>\n",
       "    </tr>\n",
       "  </thead>\n",
       "  <tbody>\n",
       "    <tr>\n",
       "      <th>0</th>\n",
       "      <td>NNVBBKZB</td>\n",
       "      <td>Female</td>\n",
       "      <td>73</td>\n",
       "      <td>RG268</td>\n",
       "      <td>Other</td>\n",
       "      <td>X3</td>\n",
       "      <td>43</td>\n",
       "      <td>No</td>\n",
       "      <td>1045696</td>\n",
       "      <td>No</td>\n",
       "      <td>0</td>\n",
       "    </tr>\n",
       "    <tr>\n",
       "      <th>1</th>\n",
       "      <td>IDD62UNG</td>\n",
       "      <td>Female</td>\n",
       "      <td>30</td>\n",
       "      <td>RG277</td>\n",
       "      <td>Salaried</td>\n",
       "      <td>X1</td>\n",
       "      <td>32</td>\n",
       "      <td>No</td>\n",
       "      <td>581988</td>\n",
       "      <td>No</td>\n",
       "      <td>0</td>\n",
       "    </tr>\n",
       "    <tr>\n",
       "      <th>2</th>\n",
       "      <td>HD3DSEMC</td>\n",
       "      <td>Female</td>\n",
       "      <td>56</td>\n",
       "      <td>RG268</td>\n",
       "      <td>Self_Employed</td>\n",
       "      <td>X3</td>\n",
       "      <td>26</td>\n",
       "      <td>No</td>\n",
       "      <td>1484315</td>\n",
       "      <td>Yes</td>\n",
       "      <td>0</td>\n",
       "    </tr>\n",
       "    <tr>\n",
       "      <th>3</th>\n",
       "      <td>BF3NC7KV</td>\n",
       "      <td>Male</td>\n",
       "      <td>34</td>\n",
       "      <td>RG270</td>\n",
       "      <td>Salaried</td>\n",
       "      <td>X1</td>\n",
       "      <td>19</td>\n",
       "      <td>No</td>\n",
       "      <td>470454</td>\n",
       "      <td>No</td>\n",
       "      <td>0</td>\n",
       "    </tr>\n",
       "    <tr>\n",
       "      <th>4</th>\n",
       "      <td>TEASRWXV</td>\n",
       "      <td>Female</td>\n",
       "      <td>30</td>\n",
       "      <td>RG282</td>\n",
       "      <td>Salaried</td>\n",
       "      <td>X1</td>\n",
       "      <td>33</td>\n",
       "      <td>No</td>\n",
       "      <td>886787</td>\n",
       "      <td>No</td>\n",
       "      <td>0</td>\n",
       "    </tr>\n",
       "  </tbody>\n",
       "</table>\n",
       "</div>"
      ],
      "text/plain": [
       "         ID  Gender  Age Region_Code     Occupation Channel_Code  Vintage  \\\n",
       "0  NNVBBKZB  Female   73       RG268          Other           X3       43   \n",
       "1  IDD62UNG  Female   30       RG277       Salaried           X1       32   \n",
       "2  HD3DSEMC  Female   56       RG268  Self_Employed           X3       26   \n",
       "3  BF3NC7KV    Male   34       RG270       Salaried           X1       19   \n",
       "4  TEASRWXV  Female   30       RG282       Salaried           X1       33   \n",
       "\n",
       "  Credit_Product  Avg_Account_Balance Is_Active  Is_Lead  \n",
       "0             No              1045696        No        0  \n",
       "1             No               581988        No        0  \n",
       "2             No              1484315       Yes        0  \n",
       "3             No               470454        No        0  \n",
       "4             No               886787        No        0  "
      ]
     },
     "execution_count": 4,
     "metadata": {},
     "output_type": "execute_result"
    }
   ],
   "source": [
    "# Loading data from train.csv file\n",
    "train_df = pd.read_csv(\"train data credit card.csv\")\n",
    "train_df.head(5)"
   ]
  },
  {
   "cell_type": "code",
   "execution_count": 5,
   "id": "baking-mortgage",
   "metadata": {},
   "outputs": [
    {
     "data": {
      "text/plain": [
       "(245725, 11)"
      ]
     },
     "execution_count": 5,
     "metadata": {},
     "output_type": "execute_result"
    }
   ],
   "source": [
    "train_df.shape"
   ]
  },
  {
   "cell_type": "markdown",
   "id": "assisted-teaching",
   "metadata": {},
   "source": [
    "#### Shortening the huge dataset"
   ]
  },
  {
   "cell_type": "code",
   "execution_count": 12,
   "id": "secret-cleanup",
   "metadata": {},
   "outputs": [
    {
     "data": {
      "text/plain": [
       "(40000, 11)"
      ]
     },
     "execution_count": 12,
     "metadata": {},
     "output_type": "execute_result"
    }
   ],
   "source": [
    "train = train_df.loc[1:40000,:]\n",
    "train.shape"
   ]
  },
  {
   "cell_type": "markdown",
   "id": "bizarre-travel",
   "metadata": {},
   "source": [
    "#### Filling Null values if any"
   ]
  },
  {
   "cell_type": "code",
   "execution_count": 16,
   "id": "approximate-michigan",
   "metadata": {},
   "outputs": [],
   "source": [
    "train = train.fillna(\"None\")\n",
    "test = test.fillna(\"None\")"
   ]
  },
  {
   "cell_type": "markdown",
   "id": "macro-grass",
   "metadata": {},
   "source": [
    "#### Dropping ID Column , defining target"
   ]
  },
  {
   "cell_type": "code",
   "execution_count": 21,
   "id": "charged-quality",
   "metadata": {},
   "outputs": [],
   "source": [
    "train1 = train.drop([\"ID\",\"Is_Lead\"],axis=1)\n",
    "y = train[\"Is_Lead\"]\n",
    "test1 = test.drop(\"ID\",axis=1) "
   ]
  },
  {
   "cell_type": "markdown",
   "id": "interstate-steel",
   "metadata": {},
   "source": [
    "As, Variance Threshold can work only upon numerical data. We need to first convert the data types of other non-integer/non-float columns. For this we will use Ordinal Encoder."
   ]
  },
  {
   "cell_type": "markdown",
   "id": "handy-navigator",
   "metadata": {},
   "source": [
    "#### To see no. of unique values in each column:"
   ]
  },
  {
   "cell_type": "code",
   "execution_count": 38,
   "id": "supreme-princeton",
   "metadata": {},
   "outputs": [
    {
     "data": {
      "text/plain": [
       "Gender                     2\n",
       "Age                       62\n",
       "Region_Code               35\n",
       "Occupation                 4\n",
       "Channel_Code               4\n",
       "Vintage                   66\n",
       "Credit_Product             3\n",
       "Avg_Account_Balance    35278\n",
       "Is_Active                  2\n",
       "dtype: int64"
      ]
     },
     "execution_count": 38,
     "metadata": {},
     "output_type": "execute_result"
    }
   ],
   "source": [
    "train1.nunique(axis=0)"
   ]
  },
  {
   "cell_type": "markdown",
   "id": "minus-basic",
   "metadata": {},
   "source": [
    "### Using Ordinal Encoder: Required Before Thresholding"
   ]
  },
  {
   "cell_type": "markdown",
   "id": "therapeutic-cement",
   "metadata": {},
   "source": [
    "In ordinal encoding, each unique category value is assigned an integer value. For example, “red” is 1, “green” is 2, and “blue” is 3. This is called an ordinal encoding or an integer encoding and is easily reversible. Often, integer values starting at zero are used."
   ]
  },
  {
   "cell_type": "code",
   "execution_count": 39,
   "id": "arbitrary-defendant",
   "metadata": {},
   "outputs": [
    {
     "name": "stdout",
     "output_type": "stream",
     "text": [
      "<class 'pandas.core.frame.DataFrame'>\n",
      "RangeIndex: 40000 entries, 1 to 40000\n",
      "Data columns (total 9 columns):\n",
      " #   Column               Non-Null Count  Dtype \n",
      "---  ------               --------------  ----- \n",
      " 0   Gender               40000 non-null  object\n",
      " 1   Age                  40000 non-null  int64 \n",
      " 2   Region_Code          40000 non-null  object\n",
      " 3   Occupation           40000 non-null  object\n",
      " 4   Channel_Code         40000 non-null  object\n",
      " 5   Vintage              40000 non-null  int64 \n",
      " 6   Credit_Product       40000 non-null  object\n",
      " 7   Avg_Account_Balance  40000 non-null  int64 \n",
      " 8   Is_Active            40000 non-null  object\n",
      "dtypes: int64(3), object(6)\n",
      "memory usage: 2.7+ MB\n"
     ]
    }
   ],
   "source": [
    "train1.info()"
   ]
  },
  {
   "cell_type": "code",
   "execution_count": 45,
   "id": "positive-cherry",
   "metadata": {},
   "outputs": [],
   "source": [
    "# import ordinal encoder from sklearn\n",
    "from sklearn.preprocessing import OrdinalEncoder\n",
    "ord_enc = OrdinalEncoder()\n",
    "  \n",
    "# Transform the data\n",
    "train1[[\"Gender\",\"Region_Code\",\"Occupation\",\"Channel_Code\",\"Credit_Product\",\"Is_Active\"]] = ord_enc.fit_transform(train1[[\"Gender\",\"Region_Code\",\"Occupation\",\"Channel_Code\",\"Credit_Product\",\"Is_Active\"]])"
   ]
  },
  {
   "cell_type": "code",
   "execution_count": 46,
   "id": "latter-soviet",
   "metadata": {},
   "outputs": [
    {
     "name": "stdout",
     "output_type": "stream",
     "text": [
      "<class 'pandas.core.frame.DataFrame'>\n",
      "RangeIndex: 40000 entries, 1 to 40000\n",
      "Data columns (total 9 columns):\n",
      " #   Column               Non-Null Count  Dtype  \n",
      "---  ------               --------------  -----  \n",
      " 0   Gender               40000 non-null  float64\n",
      " 1   Age                  40000 non-null  int64  \n",
      " 2   Region_Code          40000 non-null  float64\n",
      " 3   Occupation           40000 non-null  float64\n",
      " 4   Channel_Code         40000 non-null  float64\n",
      " 5   Vintage              40000 non-null  int64  \n",
      " 6   Credit_Product       40000 non-null  float64\n",
      " 7   Avg_Account_Balance  40000 non-null  int64  \n",
      " 8   Is_Active            40000 non-null  float64\n",
      "dtypes: float64(6), int64(3)\n",
      "memory usage: 2.7 MB\n"
     ]
    }
   ],
   "source": [
    "train1.info()"
   ]
  },
  {
   "cell_type": "markdown",
   "id": "sound-lesbian",
   "metadata": {},
   "source": [
    "## MAIN CODE:"
   ]
  },
  {
   "cell_type": "markdown",
   "id": "rental-cholesterol",
   "metadata": {},
   "source": [
    "#### Defining and Fiting Threshold\n",
    "\n",
    "For quasi-constant features, that have the same value for a very large subset, using threshold as 0.01 would mean dropping the column where 99% of the values are similar."
   ]
  },
  {
   "cell_type": "code",
   "execution_count": 52,
   "id": "sacred-august",
   "metadata": {},
   "outputs": [
    {
     "data": {
      "text/plain": [
       "array([False,  True,  True,  True,  True,  True,  True,  True, False])"
      ]
     },
     "execution_count": 52,
     "metadata": {},
     "output_type": "execute_result"
    }
   ],
   "source": [
    "from sklearn.feature_selection import VarianceThreshold\n",
    "\n",
    "var_thr = VarianceThreshold(threshold = 0.25) #Removing both constant and quasi-constant\n",
    "var_thr.fit(train1)\n",
    "\n",
    "var_thr.get_support()"
   ]
  },
  {
   "cell_type": "code",
   "execution_count": 59,
   "id": "actual-sessions",
   "metadata": {},
   "outputs": [
    {
     "data": {
      "text/plain": [
       "7"
      ]
     },
     "execution_count": 59,
     "metadata": {},
     "output_type": "execute_result"
    }
   ],
   "source": [
    "sum(var_thr.get_support())   #Sum for High Variance Columns"
   ]
  },
  {
   "cell_type": "markdown",
   "id": "buried-titanium",
   "metadata": {},
   "source": [
    "OUTPUT:\n",
    "- True : Low Variance\n",
    "- False: High Variance"
   ]
  },
  {
   "cell_type": "markdown",
   "id": "nutritional-sight",
   "metadata": {},
   "source": [
    "#### Picking Up the low Variance Columns: "
   ]
  },
  {
   "cell_type": "markdown",
   "id": "fatal-matthew",
   "metadata": {},
   "source": [
    "As per my above code, i am dropping columns that are 75% or more similar (you can keep any value you prefer)"
   ]
  },
  {
   "cell_type": "code",
   "execution_count": 61,
   "id": "accompanied-singing",
   "metadata": {},
   "outputs": [
    {
     "name": "stdout",
     "output_type": "stream",
     "text": [
      "Gender\n",
      "Is_Active\n"
     ]
    }
   ],
   "source": [
    "concol = [column for column in train1.columns \n",
    "          if column not in train1.columns[var_thr.get_support()]]\n",
    "\n",
    "for features in concol:\n",
    "    print(features)"
   ]
  },
  {
   "cell_type": "markdown",
   "id": "greatest-highland",
   "metadata": {},
   "source": [
    "#### Dropping Low Variance Columns:"
   ]
  },
  {
   "cell_type": "code",
   "execution_count": 63,
   "id": "ethical-benjamin",
   "metadata": {},
   "outputs": [
    {
     "data": {
      "text/html": [
       "<div>\n",
       "<style scoped>\n",
       "    .dataframe tbody tr th:only-of-type {\n",
       "        vertical-align: middle;\n",
       "    }\n",
       "\n",
       "    .dataframe tbody tr th {\n",
       "        vertical-align: top;\n",
       "    }\n",
       "\n",
       "    .dataframe thead th {\n",
       "        text-align: right;\n",
       "    }\n",
       "</style>\n",
       "<table border=\"1\" class=\"dataframe\">\n",
       "  <thead>\n",
       "    <tr style=\"text-align: right;\">\n",
       "      <th></th>\n",
       "      <th>Age</th>\n",
       "      <th>Region_Code</th>\n",
       "      <th>Occupation</th>\n",
       "      <th>Channel_Code</th>\n",
       "      <th>Vintage</th>\n",
       "      <th>Credit_Product</th>\n",
       "      <th>Avg_Account_Balance</th>\n",
       "    </tr>\n",
       "  </thead>\n",
       "  <tbody>\n",
       "    <tr>\n",
       "      <th>1</th>\n",
       "      <td>30</td>\n",
       "      <td>27.0</td>\n",
       "      <td>2.0</td>\n",
       "      <td>0.0</td>\n",
       "      <td>32</td>\n",
       "      <td>0.0</td>\n",
       "      <td>581988</td>\n",
       "    </tr>\n",
       "    <tr>\n",
       "      <th>2</th>\n",
       "      <td>56</td>\n",
       "      <td>18.0</td>\n",
       "      <td>3.0</td>\n",
       "      <td>2.0</td>\n",
       "      <td>26</td>\n",
       "      <td>0.0</td>\n",
       "      <td>1484315</td>\n",
       "    </tr>\n",
       "    <tr>\n",
       "      <th>3</th>\n",
       "      <td>34</td>\n",
       "      <td>20.0</td>\n",
       "      <td>2.0</td>\n",
       "      <td>0.0</td>\n",
       "      <td>19</td>\n",
       "      <td>0.0</td>\n",
       "      <td>470454</td>\n",
       "    </tr>\n",
       "    <tr>\n",
       "      <th>4</th>\n",
       "      <td>30</td>\n",
       "      <td>32.0</td>\n",
       "      <td>2.0</td>\n",
       "      <td>0.0</td>\n",
       "      <td>33</td>\n",
       "      <td>0.0</td>\n",
       "      <td>886787</td>\n",
       "    </tr>\n",
       "    <tr>\n",
       "      <th>5</th>\n",
       "      <td>56</td>\n",
       "      <td>11.0</td>\n",
       "      <td>3.0</td>\n",
       "      <td>0.0</td>\n",
       "      <td>32</td>\n",
       "      <td>0.0</td>\n",
       "      <td>544163</td>\n",
       "    </tr>\n",
       "    <tr>\n",
       "      <th>...</th>\n",
       "      <td>...</td>\n",
       "      <td>...</td>\n",
       "      <td>...</td>\n",
       "      <td>...</td>\n",
       "      <td>...</td>\n",
       "      <td>...</td>\n",
       "      <td>...</td>\n",
       "    </tr>\n",
       "    <tr>\n",
       "      <th>39996</th>\n",
       "      <td>61</td>\n",
       "      <td>1.0</td>\n",
       "      <td>3.0</td>\n",
       "      <td>1.0</td>\n",
       "      <td>26</td>\n",
       "      <td>0.0</td>\n",
       "      <td>822920</td>\n",
       "    </tr>\n",
       "    <tr>\n",
       "      <th>39997</th>\n",
       "      <td>54</td>\n",
       "      <td>0.0</td>\n",
       "      <td>3.0</td>\n",
       "      <td>2.0</td>\n",
       "      <td>127</td>\n",
       "      <td>0.0</td>\n",
       "      <td>827797</td>\n",
       "    </tr>\n",
       "    <tr>\n",
       "      <th>39998</th>\n",
       "      <td>26</td>\n",
       "      <td>18.0</td>\n",
       "      <td>3.0</td>\n",
       "      <td>0.0</td>\n",
       "      <td>13</td>\n",
       "      <td>0.0</td>\n",
       "      <td>1254855</td>\n",
       "    </tr>\n",
       "    <tr>\n",
       "      <th>39999</th>\n",
       "      <td>40</td>\n",
       "      <td>33.0</td>\n",
       "      <td>0.0</td>\n",
       "      <td>2.0</td>\n",
       "      <td>86</td>\n",
       "      <td>1.0</td>\n",
       "      <td>1805249</td>\n",
       "    </tr>\n",
       "    <tr>\n",
       "      <th>40000</th>\n",
       "      <td>54</td>\n",
       "      <td>33.0</td>\n",
       "      <td>3.0</td>\n",
       "      <td>2.0</td>\n",
       "      <td>69</td>\n",
       "      <td>2.0</td>\n",
       "      <td>1030175</td>\n",
       "    </tr>\n",
       "  </tbody>\n",
       "</table>\n",
       "<p>40000 rows × 7 columns</p>\n",
       "</div>"
      ],
      "text/plain": [
       "       Age  Region_Code  Occupation  Channel_Code  Vintage  Credit_Product  \\\n",
       "1       30         27.0         2.0           0.0       32             0.0   \n",
       "2       56         18.0         3.0           2.0       26             0.0   \n",
       "3       34         20.0         2.0           0.0       19             0.0   \n",
       "4       30         32.0         2.0           0.0       33             0.0   \n",
       "5       56         11.0         3.0           0.0       32             0.0   \n",
       "...    ...          ...         ...           ...      ...             ...   \n",
       "39996   61          1.0         3.0           1.0       26             0.0   \n",
       "39997   54          0.0         3.0           2.0      127             0.0   \n",
       "39998   26         18.0         3.0           0.0       13             0.0   \n",
       "39999   40         33.0         0.0           2.0       86             1.0   \n",
       "40000   54         33.0         3.0           2.0       69             2.0   \n",
       "\n",
       "       Avg_Account_Balance  \n",
       "1                   581988  \n",
       "2                  1484315  \n",
       "3                   470454  \n",
       "4                   886787  \n",
       "5                   544163  \n",
       "...                    ...  \n",
       "39996               822920  \n",
       "39997               827797  \n",
       "39998              1254855  \n",
       "39999              1805249  \n",
       "40000              1030175  \n",
       "\n",
       "[40000 rows x 7 columns]"
      ]
     },
     "execution_count": 63,
     "metadata": {},
     "output_type": "execute_result"
    }
   ],
   "source": [
    "train1.drop(concol,axis=1)"
   ]
  },
  {
   "cell_type": "code",
   "execution_count": 64,
   "id": "political-barrel",
   "metadata": {},
   "outputs": [
    {
     "data": {
      "text/plain": [
       "Index(['Gender', 'Age', 'Region_Code', 'Occupation', 'Channel_Code', 'Vintage',\n",
       "       'Credit_Product', 'Avg_Account_Balance', 'Is_Active'],\n",
       "      dtype='object')"
      ]
     },
     "execution_count": 64,
     "metadata": {},
     "output_type": "execute_result"
    }
   ],
   "source": [
    "train1.columns"
   ]
  },
  {
   "cell_type": "markdown",
   "id": "simple-spectrum",
   "metadata": {},
   "source": [
    "This is how we can see which are the columns that have high variance and thus contribute in better models. Don't forget to convert the columns dtype to integer or flow before applying thresold.\n",
    "\n",
    "Once you identify your low variance columns, you can always reverse the encoding and continue your journey :)"
   ]
  },
  {
   "cell_type": "code",
   "execution_count": null,
   "id": "sunrise-occasions",
   "metadata": {},
   "outputs": [],
   "source": []
  }
 ],
 "metadata": {
  "kernelspec": {
   "display_name": "Python 3",
   "language": "python",
   "name": "python3"
  },
  "language_info": {
   "codemirror_mode": {
    "name": "ipython",
    "version": 3
   },
   "file_extension": ".py",
   "mimetype": "text/x-python",
   "name": "python",
   "nbconvert_exporter": "python",
   "pygments_lexer": "ipython3",
   "version": "3.9.1"
  }
 },
 "nbformat": 4,
 "nbformat_minor": 5
}
